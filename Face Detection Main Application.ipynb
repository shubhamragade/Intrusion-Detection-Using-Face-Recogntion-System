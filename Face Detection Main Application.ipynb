{
 "cells": [
  {
   "cell_type": "markdown",
   "metadata": {},
   "source": [
    "# Prediction with created Face Recognizer Model"
   ]
  },
  {
   "cell_type": "code",
   "execution_count": null,
   "metadata": {},
   "outputs": [],
   "source": [
    "import cv2\n",
    "import numpy as np\n",
    "\n",
    "subjects = [\"\", \"Shubham\", \"Dinesh\"]\n",
    "\n",
    "def draw_rectangle(img, rect):\n",
    "    if rect:\n",
    "        (x, y, w, h) = rect\n",
    "        img = cv2.rectangle(img, (x, y), (x+w, y+h), (0, 255, 0), 2)\n",
    "    return img\n",
    "    \n",
    "def draw_text(img, text):\n",
    "    cv2.putText(img, text, (50, 50), cv2.FONT_HERSHEY_SIMPLEX, 1, (0, 0, 255), 2)\n",
    "\n",
    "def face_extractor(img):\n",
    "    faces = face_classifier.detectMultiScale(img, 1.4, 2)\n",
    "    detected_faces = []\n",
    "    for (x, y, w, h) in faces:\n",
    "        img = cv2.rectangle(img, (x, y), (x+w, y+h), (0, 255, 255), 2)\n",
    "        detected_face = img[y:y+h, x:x+w]\n",
    "        detected_face = cv2.resize(detected_face, (200, 200))\n",
    "        detected_faces.append((detected_face, (x, y, w, h)))\n",
    "    return detected_faces\n",
    "\n",
    "cap = cv2.VideoCapture(0)\n",
    "face_classifier = cv2.CascadeClassifier('haarcascade_frontalface_default.xml')\n",
    "face_recognizer = cv2.face.LBPHFaceRecognizer_create()\n",
    "face_recognizer.read(\"face_recognizer.h5\")\n",
    "\n",
    "while True:\n",
    "    ret, frame = cap.read()\n",
    "    if not ret:\n",
    "        print(\"Failed to capture frame, exiting...\")\n",
    "        break\n",
    "\n",
    "    detected_faces = face_extractor(frame)\n",
    "    for detected_face, rect in detected_faces:\n",
    "        face_gray = cv2.cvtColor(detected_face, cv2.COLOR_BGR2GRAY)\n",
    "        label = face_recognizer.predict(face_gray)\n",
    "        label_text = subjects[label[0]]\n",
    "        draw_text(frame, label_text)\n",
    "        frame = draw_rectangle(frame, rect)\n",
    "\n",
    "    cv2.imshow(\"Face Recognition\", frame)\n",
    "    \n",
    "    if cv2.waitKey(1) == 13:\n",
    "        break\n",
    "\n",
    "cv2.destroyAllWindows()\n",
    "cap.release()\n"
   ]
  },
  {
   "cell_type": "markdown",
   "metadata": {},
   "source": [
    "# Function for Email"
   ]
  },
  {
   "cell_type": "code",
   "execution_count": 14,
   "metadata": {},
   "outputs": [
    {
     "name": "stdout",
     "output_type": "stream",
     "text": [
      "Sending mail....\n",
      "Mail Sent successfully\n"
     ]
    }
   ],
   "source": [
    "import smtplib\n",
    "import getpass\n",
    "import imghdr\n",
    "from email.message import EmailMessage\n",
    "\n",
    "def send_email():\n",
    "    message = EmailMessage()\n",
    "    \n",
    "    # Email configuration\n",
    "    sender_email = \"shubhamragade2003@gmail.com\"\n",
    "    password = \"smucijofmbgaqipn\"\n",
    "    receiver_email = \"shubhamragade2003@gmail.com\"\n",
    "   \n",
    "    \n",
    "    print(\"Sending mail....\")\n",
    "    \n",
    "    message['subject'] = \"Anonymous person found in working area\"\n",
    "    message['from'] = sender_email\n",
    "    message['to'] = receiver_email\n",
    "    message.set_content(\"Is Familiar With You\" )\n",
    "    \n",
    "    with open(\"./image/Crop.jpg\", \"rb\") as attach_file:\n",
    "        image_name = attach_file.name\n",
    "        image_type = imghdr.what(attach_file.name)\n",
    "        image_data = attach_file.read()\n",
    "    \n",
    "    message.add_attachment(image_data, maintype=\"image\", subtype=image_type, filename=\"FaceLock.png\")\n",
    "    \n",
    "    with smtplib.SMTP_SSL(\"smtp.gmail.com\", 465) as smtp:\n",
    "        smtp.login(sender_email, password)\n",
    "        smtp.send_message(message)\n",
    "        \n",
    "    print(\"Mail Sent successfully\")\n",
    "\n",
    "send_email()\n"
   ]
  },
  {
   "cell_type": "markdown",
   "metadata": {},
   "source": [
    "# Function for Terraform Infrastructure launch"
   ]
  },
  {
   "cell_type": "code",
   "execution_count": 8,
   "metadata": {},
   "outputs": [],
   "source": [
    "def terraform():\n",
    "    print(\"Installing required plugins\")\n",
    "    stream = os.popen('terraform init')\n",
    "    output = stream.readlines()\n",
    "        #output\n",
    "    for line in output:\n",
    "        print(line.strip())\n",
    "            \n",
    "        print(\"Deploying infrastructure\")\n",
    "        stream = os.popen('terraform apply')\n",
    "        output = stream.readlines()\n",
    "        #output\n",
    "        for line in output:\n",
    "            print(line.strip())\n",
    "        "
   ]
  },
  {
   "cell_type": "markdown",
   "metadata": {},
   "source": []
  },
  {
   "cell_type": "markdown",
   "metadata": {},
   "source": [
    "# Function for Face detection Application"
   ]
  },
  {
   "cell_type": "markdown",
   "metadata": {},
   "source": [
    "# Function  is detected"
   ]
  },
  {
   "cell_type": "code",
   "execution_count": 15,
   "metadata": {},
   "outputs": [],
   "source": [
    "import time\n",
    "def condition():\n",
    "    if Shilpy == 100:\n",
    "        tf = cv2.imread(\"images.jpg\")\n",
    "        cv2.putText(tf, \"Access\", (45, 50) , cv2.FONT_HERSHEY_COMPLEX, 1, (0,0,255), 2)\n",
    "        cv2.putText(tf, \"Granted\", (45, 100) , cv2.FONT_HERSHEY_COMPLEX, 1, (0,0,255), 2)\n",
    "        cv2.imshow(\"permission\" , tf)\n",
    "        cv2.waitKey(2000)\n",
    "        cv2.destroyAllWindows()\n",
    "        print(\"Playing songs for you....\")\n",
    "        print(\"Opening VS code for you...\")\n",
    "        good_morning()\n",
    "        print(\"Good Morning shubham!!\")\n",
    "        \n",
    "    elif Sir == 25:\n",
    "        aws = cv2.imread(\"capture-5.png\")\n",
    "        cv2.putText(aws, \"Permitted\", (50, 100) , cv2.FONT_HERSHEY_COMPLEX, 1, (0,0,255), 2)\n",
    "        cv2.imshow(\"Permission\", aws)\n",
    "        cv2.waitKey(2000)\n",
    "        cv2.destroyAllWindows()\n",
    "        print(\"Launching EC2 Instance...\")\n",
    "        #instanceId, availabilityZone = launch_instance()\n",
    "        print(\"Creating Volume...\")\n",
    "        time.sleep(30)\n",
    "        print(\"Attaching Volume...\")\n",
    "        #create_and_attach_volume(instanceId, availabilityZone)\n",
    "        print(\"EC2 launched , volume created and attached successfully\")\n",
    "        \n",
    "        \n",
    "    elif Anon == 150:\n",
    "        lock = cv2.imread(\"lock.jpg\")\n",
    "        cv2.putText(lock, \"Access\", (45, 50) , cv2.FONT_HERSHEY_COMPLEX, 1, (0,0,255), 2)\n",
    "        cv2.putText(lock, \"Denied\", (45, 100) , cv2.FONT_HERSHEY_COMPLEX, 1, (0,0,255), 2)\n",
    "        cv2.imshow(\"lock\" , lock)\n",
    "        cv2.waitKey(2000)\n",
    "        cv2.destroyAllWindows()\n",
    "        cv2.imshow(\"lock\" , image)\n",
    "        cv2.waitKey(1000)\n",
    "        cv2.destroyAllWindows()\n",
    "        face_anon = face_classifier.detectMultiScale(image, 1.4, 6)\n",
    "        for x,y,w,h in face_anon:\n",
    "            cimg1 = image[y:y+h, x:x+w,  : ]\n",
    "            cv2.imwrite(\"./image/Crop.jpg\",cimg1)  \n",
    "        print(\"Sending Mail...\")\n",
    "        send_email()\n",
    "        print(\"EMail sent sucessfully\")\n",
    "             "
   ]
  },
  {
   "cell_type": "markdown",
   "metadata": {},
   "source": []
  },
  {
   "cell_type": "markdown",
   "metadata": {},
   "source": [
    "# if found send massege"
   ]
  },
  {
   "cell_type": "code",
   "execution_count": 18,
   "metadata": {},
   "outputs": [
    {
     "name": "stderr",
     "output_type": "stream",
     "text": [
      "<>:13: SyntaxWarning: \"is\" with 'tuple' literal. Did you mean \"==\"?\n",
      "<>:13: SyntaxWarning: \"is\" with 'tuple' literal. Did you mean \"==\"?\n",
      "C:\\Users\\shubh\\AppData\\Local\\Temp\\ipykernel_18488\\315639483.py:13: SyntaxWarning: \"is\" with 'tuple' literal. Did you mean \"==\"?\n",
      "  if faces is ():\n"
     ]
    },
    {
     "name": "stdout",
     "output_type": "stream",
     "text": [
      "Anonymous person found\n",
      "Sending Mail...\n",
      "Sending mail....\n",
      "Mail Sent successfully\n",
      "EMail sent sucessfully\n"
     ]
    }
   ],
   "source": [
    "import cv2\n",
    "import numpy as np\n",
    "import os\n",
    "import time\n",
    "\n",
    "Face_recognizer  = cv2.face_LBPHFaceRecognizer.create() \n",
    "Face_recognizer.read(\"face_recognizer.h5\")\n",
    "face_classifier = cv2.CascadeClassifier('haarcascade_frontalface_default.xml')\n",
    "\n",
    "def face_detector(img ):\n",
    "    \n",
    "    faces = face_classifier.detectMultiScale(img, 1.4,3)\n",
    "    if faces is ():\n",
    "        return img, []\n",
    "    else:\n",
    "        for (x,y,w,h) in faces:\n",
    "            img = cv2.rectangle(img,(x,y),(x+w,y+h),(0,255,255),2)\n",
    "            detected_face = img[y:y+h, x:x+w]\n",
    "            detected_face = cv2.resize(detected_face, (200, 200))\n",
    "            return img, detected_face\n",
    "\n",
    "# Open Webcam\n",
    "cap = cv2.VideoCapture(0)\n",
    "Shilpy = 0\n",
    "Anon = 0\n",
    "Sir = 0\n",
    "\n",
    "while True:\n",
    "\n",
    "    ret, frame = cap.read()\n",
    "    image, detected_face = face_detector(frame)\n",
    "\n",
    "    try:\n",
    "        face = cv2.cvtColor(detected_face, cv2.COLOR_BGR2GRAY)        \n",
    "        model_output = Face_recognizer.predict(face)\n",
    "        \n",
    "        if model_output[1] < 500:\n",
    "            confidence = int( 100 * (1 - (model_output[1])/400) )\n",
    "            display_string = str(confidence) + '% Confident it is User'\n",
    "            \n",
    "        cv2.putText(image, display_string, (100, 120), cv2.FONT_HERSHEY_COMPLEX, 1, (255,120,150), 2)\n",
    "        \n",
    "        if model_output[0] == 2 and confidence >= 70:\n",
    "            cv2.putText(image, \"Pranam :-) Dinesh\", (250, 450), cv2.FONT_HERSHEY_COMPLEX, 1, (255,0,0), 2)\n",
    "            cv2.imshow('Face Recognition', image )\n",
    "            Sir += 1\n",
    "            \n",
    "        #elif confidence < 90:\n",
    "        elif model_output[0]== 1 and confidence >=90:\n",
    "            cv2.putText(image, \"Hello Shubham\", (250, 450), cv2.FONT_HERSHEY_COMPLEX, 1, (0,255,0), 2)\n",
    "            cv2.imshow('Face Recognition', image )\n",
    "            Shilpy += 1\n",
    "            \n",
    "        else :\n",
    "            cv2.putText(image, \"Anonymous face\", (250, 450), cv2.FONT_HERSHEY_COMPLEX, 1, (0,255,255), 2)\n",
    "            cv2.imshow('Face Recognition', image )\n",
    "            Anon += 1\n",
    "            \n",
    "                    \n",
    "        if Shilpy == 100:\n",
    "            print(\"Wellcome shubham\") \n",
    "            break\n",
    "            \n",
    "        elif Sir == 25:\n",
    "            print(\"Wellcoem Dinesh\")\n",
    "            break\n",
    "            \n",
    "        elif Anon == 150:\n",
    "            print(\"Anonymous person found\")            \n",
    "            break\n",
    "                    \n",
    "    except:\n",
    "        cv2.putText(image, \"No Face Found\", (220, 120) , cv2.FONT_HERSHEY_COMPLEX, 1, (0,0,255), 2)\n",
    "        cv2.putText(image, \"looking for face\", (250, 450), cv2.FONT_HERSHEY_COMPLEX, 1, (0,0,255), 2)\n",
    "        cv2.imshow('Face Recognition', image )\n",
    "        pass\n",
    "\n",
    "    if cv2.waitKey(1) == 13: \n",
    "        break\n",
    "        \n",
    "\n",
    "cv2.destroyAllWindows()\n",
    "cap.release()\n",
    "condition()"
   ]
  },
  {
   "cell_type": "code",
   "execution_count": null,
   "metadata": {},
   "outputs": [],
   "source": []
  },
  {
   "cell_type": "code",
   "execution_count": null,
   "metadata": {},
   "outputs": [],
   "source": []
  },
  {
   "cell_type": "code",
   "execution_count": null,
   "metadata": {},
   "outputs": [],
   "source": []
  }
 ],
 "metadata": {
  "kernelspec": {
   "display_name": "Python 3 (ipykernel)",
   "language": "python",
   "name": "python3"
  },
  "language_info": {
   "codemirror_mode": {
    "name": "ipython",
    "version": 3
   },
   "file_extension": ".py",
   "mimetype": "text/x-python",
   "name": "python",
   "nbconvert_exporter": "python",
   "pygments_lexer": "ipython3",
   "version": "3.12.1"
  }
 },
 "nbformat": 4,
 "nbformat_minor": 4
}
